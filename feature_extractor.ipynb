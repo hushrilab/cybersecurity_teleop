{
 "cells": [
  {
   "cell_type": "code",
   "execution_count": null,
   "metadata": {},
   "outputs": [],
   "source": [
    "import sys\n",
    "import collections\n",
    "import dpkt\n",
    "import socket\n",
    "import os\n",
    "import random\n",
    "import math\n",
    "import numpy as np\n",
    "from scipy.stats import kurtosis, skew\n",
    "from termcolor import colored \n",
    "from joblib import Parallel, delayed"
   ]
  },
  {
   "cell_type": "code",
   "execution_count": null,
   "metadata": {},
   "outputs": [],
   "source": [
    "data_folder = \"/Users/ct/Desktop/cybersecurity_robotics/teleop_data\""
   ]
  },
  {
   "cell_type": "code",
   "execution_count": null,
   "metadata": {},
   "outputs": [],
   "source": [
    "baselines = os.listdir(data_folder)\n",
    "baselines = [e for e in baselines if \".DS_Store\" not in e]"
   ]
  },
  {
   "cell_type": "code",
   "execution_count": null,
   "metadata": {},
   "outputs": [],
   "source": [
    "import processing\n",
    "\n",
    "#For kinds of traffic (Protozoa | Regular versions)\n",
    "for b in baselines:\n",
    "    processing.PrintColored(\"Analyzing \" + b + \" Baseline\", \"yellow\")\n",
    "    profiles = os.listdir(data_folder + \"/\" + b)\n",
    "    profiles = [e for e in profiles if \".DS_Store\" not in e]\n",
    "\n",
    "    for profile in profiles:\n",
    "        processing.PrintColored(\"Analyzing \" + profile + \" Video Profile\", \"yellow\")\n",
    "        network_conditions = os.listdir(data_folder + \"/\" + b + \"/\" + profile)\n",
    "        network_conditions = [e for e in network_conditions if \".DS_Store\" not in e]\n",
    "        #For each video profile (Chat, LiveCoding, Gaming, Sports)\n",
    "        Parallel(n_jobs=-1, backend=\"multiprocessing\")(delayed(processing.profile_processing)(network_condition_type=network_condition, profile_type=profile, b=b, data_folder=data_folder) for network_condition in network_conditions)\n"
   ]
  }
 ],
 "metadata": {
  "language_info": {
   "name": "python"
  },
  "orig_nbformat": 4
 },
 "nbformat": 4,
 "nbformat_minor": 2
}
