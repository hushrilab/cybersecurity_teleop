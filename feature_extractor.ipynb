{
 "cells": [
  {
   "cell_type": "code",
   "execution_count": 1,
   "metadata": {},
   "outputs": [],
   "source": [
    "import sys\n",
    "import collections\n",
    "import dpkt\n",
    "import socket\n",
    "import os\n",
    "import random\n",
    "import math\n",
    "import numpy as np\n",
    "from scipy.stats import kurtosis, skew\n",
    "from termcolor import colored \n",
    "from joblib import Parallel, delayed"
   ]
  },
  {
   "cell_type": "code",
   "execution_count": 2,
   "metadata": {},
   "outputs": [],
   "source": [
    "data_folder = \"/Users/ct/Desktop/cybersecurity_robotics/teleop_data\""
   ]
  },
  {
   "cell_type": "code",
   "execution_count": 3,
   "metadata": {},
   "outputs": [
    {
     "name": "stdout",
     "output_type": "stream",
     "text": [
      "0\n",
      "0\n",
      "0\n",
      "0\n",
      "0\n",
      "0\n"
     ]
    },
    {
     "name": "stderr",
     "output_type": "stream",
     "text": [
      "/Users/ct/Desktop/cybersecurity_robotics/processing.py:219: RuntimeWarning: Precision loss occurred in moment calculation due to catastrophic cancellation. This occurs when the data are nearly identical. Results may be unreliable.\n",
      "  kurtosisPacketSizes = kurtosis(packetSizes)\n",
      "/Users/ct/Desktop/cybersecurity_robotics/processing.py:220: RuntimeWarning: Precision loss occurred in moment calculation due to catastrophic cancellation. This occurs when the data are nearly identical. Results may be unreliable.\n",
      "  skewPacketSizes = skew(packetSizes)\n",
      "/Users/ct/Desktop/cybersecurity_robotics/processing.py:259: RuntimeWarning: Precision loss occurred in moment calculation due to catastrophic cancellation. This occurs when the data are nearly identical. Results may be unreliable.\n",
      "  kurtosisPacketSizesOut = kurtosis(packetSizesOut)\n",
      "/Users/ct/Desktop/cybersecurity_robotics/processing.py:260: RuntimeWarning: Precision loss occurred in moment calculation due to catastrophic cancellation. This occurs when the data are nearly identical. Results may be unreliable.\n",
      "  skewPacketSizesOut = skew(packetSizesOut)\n"
     ]
    },
    {
     "name": "stdout",
     "output_type": "stream",
     "text": [
      "0\n",
      "0\n",
      "0\n",
      "0\n",
      "0\n",
      "0\n",
      "0\n",
      "0\n",
      "0\n",
      "0\n",
      "0\n",
      "0\n",
      "UDP Protocols seen: {'101, 61', '101, 206', '101, 72', '101, 96', '101, 20', '101, 194', '101, 212', '101, 224', '101, 37', '101, 41', '101, 39', '101, 43', '101, 79', '101, 202', '101, 69', '101, 107', '101, 190', '101, 83', '101, 14', '101, 75', '101, 235', '101, 34', '101, 181', '101, 101', '101, 3', '101, 195', '101, 80', '101, 87', '101, 196', '101, 53', '101, 15', '101, 170', '101, 109', '101, 165', '101, 177', '101, 82', '101, 218', '101, 13', '101, 201', '101, 105', '101, 76', '101, 30', '101, 131', '101, 186', '101, 100', '101, 95', '101, 97', '101, 251', '101, 139', '101, 233', '101, 33', '101, 168', '101, 183', '101, 16', '101, 84', '101, 150', '101, 46', '101, 103', '101, 228', '101, 116', '101, 52', '101, 185', '101, 65', '101, 182', '101, 180', '101, 162', '101, 57', '101, 222', '101, 234', '101, 144', '101, 211', '101, 154', '101, 31', '101, 19', '101, 10', '101, 42', '101, 64', '101, 71', '101, 173', '101, 124', '101, 255', '101, 38', '101, 179', '101, 232', '101, 8', '101, 32', '101, 244', '101, 45', '101, 198', '101, 93', '101, 137', '101, 17', '101, 28', '101, 70', '101, 22', '101, 40', '101, 141', '101, 155', '101, 205', '101, 226', '101, 2', '101, 68', '101, 229', '101, 1', '101, 149', '101, 199', '101, 99', '101, 118', '101, 237', '101, 26', '101, 104', '101, 243', '101, 7', '101, 249', '101, 157', '101, 241', '101, 176', '101, 81', '101, 250', '101, 208', '101, 90', '101, 86', '101, 122', '101, 161', '101, 172', '101, 215', '101, 217', '101, 236', '101, 27', '101, 209', '101, 114', '101, 135', '101, 245', '101, 129', '101, 133', '101, 142', '101, 0', '101, 200', '101, 223', '101, 193', '101, 169', '101, 242', '101, 158', '101, 128', '101, 253', '101, 112', '101, 12', '101, 106', '101, 248', '101, 88', '101, 191', '101, 204', '101, 47', '101, 120', '101, 110', '101, 188', '101, 207', '101, 23', '101, 213', '101, 73', '101, 36', '101, 108', '101, 55', '101, 117', '101, 121', '101, 130', '101, 134', '101, 24', '101, 159', '101, 54', '101, 58', '101, 59', '101, 167', '101, 192', '101, 5', '101, 123', '101, 127', '101, 50', '101, 148', '101, 115', '101, 44', '101, 56', '101, 220', '101, 171', '101, 254', '101, 138', '101, 48', '101, 152', '101, 246', '101, 9', '101, 221', '101, 74', '101, 210', '101, 240', '101, 11', '101, 225', '101, 125', '101, 140', '101, 146', '101, 102', '101, 153', '101, 184', '101, 92', '101, 252', '101, 178', '101, 29', '101, 89', '101, 143', '101, 21', '101, 126', '101, 4', '101, 132', '101, 145', '101, 239', '101, 78', '101, 164', '101, 151', '101, 174', '101, 25', '101, 197', '101, 216', '101, 214', '101, 62', '101, 187', '101, 160', '101, 231', '101, 111', '101, 113', '101, 219', '101, 166', '101, 77', '101, 18', '101, 67', '101, 175', '101, 35', '101, 238', '101, 119', '101, 63', '101, 98', '101, 230', '101, 163', '101, 85', '101, 91', '101, 49', '101, 147', '101, 189', '101, 203', '101, 66', '101, 136', '101, 60', '101, 6', '101, 94', '101, 156', '101, 51', '101, 227', '101, 247'}\n"
     ]
    }
   ],
   "source": [
    "import processing\n",
    "\n",
    "processing.FeatureExtractionCombined(data_folder)"
   ]
  },
  {
   "cell_type": "code",
   "execution_count": null,
   "metadata": {},
   "outputs": [],
   "source": [
    "baselines = os.listdir(data_folder)\n",
    "baselines = [e for e in baselines if \".DS_Store\" not in e]"
   ]
  },
  {
   "cell_type": "code",
   "execution_count": null,
   "metadata": {},
   "outputs": [],
   "source": [
    "import processing\n",
    "\n",
    "#For kinds of traffic (Protozoa | Regular versions)\n",
    "for b in baselines:\n",
    "    processing.PrintColored(\"Analyzing \" + b + \" Baseline\", \"yellow\")\n",
    "    profiles = os.listdir(data_folder + \"/\" + b)\n",
    "    profiles = [e for e in profiles if \".DS_Store\" not in e]\n",
    "\n",
    "    for profile in profiles:\n",
    "        processing.PrintColored(\"Analyzing \" + profile + \" Video Profile\", \"yellow\")\n",
    "        network_conditions = os.listdir(data_folder + \"/\" + b + \"/\" + profile)\n",
    "        network_conditions = [e for e in network_conditions if \".DS_Store\" not in e]\n",
    "        #For each video profile (Chat, LiveCoding, Gaming, Sports)\n",
    "        Parallel(n_jobs=-1, backend=\"multiprocessing\")(delayed(processing.profile_processing)(network_condition_type=network_condition, profile_type=profile, b=b, data_folder=data_folder) for network_condition in network_conditions)\n"
   ]
  }
 ],
 "metadata": {
  "kernelspec": {
   "display_name": "Python 3 (ipykernel)",
   "language": "python",
   "name": "python3"
  },
  "language_info": {
   "codemirror_mode": {
    "name": "ipython",
    "version": 3
   },
   "file_extension": ".py",
   "mimetype": "text/x-python",
   "name": "python",
   "nbconvert_exporter": "python",
   "pygments_lexer": "ipython3",
   "version": "3.8.16"
  }
 },
 "nbformat": 4,
 "nbformat_minor": 2
}
