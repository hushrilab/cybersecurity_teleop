{
 "cells": [
  {
   "cell_type": "code",
   "execution_count": 5,
   "id": "1947adb0",
   "metadata": {},
   "outputs": [],
   "source": [
    "import pandas as pd\n",
    "import matplotlib.pyplot as plt\n",
    "import seaborn as sns\n",
    "import os"
   ]
  },
  {
   "cell_type": "code",
   "execution_count": 6,
   "id": "0dd4b863",
   "metadata": {},
   "outputs": [],
   "source": [
    "df = pd.read_csv('/Users/ct/Library/Mobile Documents/com~apple~CloudDocs/cybersecurity_robotics/extractedFeatures/all_classes.csv')"
   ]
  },
  {
   "cell_type": "code",
   "execution_count": 7,
   "id": "f37edf73",
   "metadata": {},
   "outputs": [],
   "source": [
    "output_folder = 'feature_visualization'\n",
    "if not os.path.exists(output_folder):\n",
    "    os.makedirs(output_folder)"
   ]
  },
  {
   "cell_type": "code",
   "execution_count": 8,
   "id": "3a6c6ed8",
   "metadata": {},
   "outputs": [],
   "source": [
    "interested_features = ['corr_max','packetLengthBin2_32','packetLengthBin2_33','packetLengthBin_19', 'meanPacketTimes', 'p60PacketTimesOut','stdevPacketTimes', 'packetLengthBin2_31', 'maxIPT', 'packetLengthBin_21','p30PacketTimesOut','average_length', 'p50PacketTimes', 'corr_mean']\n",
    "for feature in interested_features:\n",
    "    plt.figure(figsize=(10, 6))\n",
    "    \n",
    "    # Using seaborn for better visualization\n",
    "    sns.boxplot(data=df, x='Class', y=feature)\n",
    "    \n",
    "    plt.title(f'Distribution of {feature} by Class')\n",
    "    # Save the figure to the output folder\n",
    "    save_path = os.path.join(output_folder, f'{feature}_distribution.png')\n",
    "    plt.savefig(save_path)\n",
    "    \n",
    "    plt.close()  # Close the current plot to free up memory"
   ]
  }
 ],
 "metadata": {
  "kernelspec": {
   "display_name": "Python 3 (ipykernel)",
   "language": "python",
   "name": "python3"
  },
  "language_info": {
   "codemirror_mode": {
    "name": "ipython",
    "version": 3
   },
   "file_extension": ".py",
   "mimetype": "text/x-python",
   "name": "python",
   "nbconvert_exporter": "python",
   "pygments_lexer": "ipython3",
   "version": "3.8.16"
  }
 },
 "nbformat": 4,
 "nbformat_minor": 5
}
